{
 "cells": [
  {
   "cell_type": "markdown",
   "metadata": {},
   "source": [
    "# EDA of Califronia's Climate Registry Information System"
   ]
  },
  {
   "cell_type": "markdown",
   "metadata": {},
   "source": [
    "<img style=\"float: right;margin:5px 20px 5px 1px; max-width:100px\" src=\"./Images/CalEPAlogo.png\" >\n",
    "California Environmental Protection Agency accounts for Greenhouse Gas emissions throughout the state. It uses the web-based Climate Registry Information System tool to calulate the Carbon Dioxide Equivalent. Agencies have the option to either aggergate their data or submit individual portions. In this Exploratory Data Analysis we are going to look at the different sources and the trends of which CO2e is produced.\n",
    "\n",
    "This is currently a work in progress.`"
   ]
  },
  {
   "cell_type": "markdown",
   "metadata": {},
   "source": [
    "### Imports:"
   ]
  },
  {
   "cell_type": "code",
   "execution_count": 1,
   "metadata": {},
   "outputs": [],
   "source": [
    "import os\n",
    "import numpy as np2\n",
    "import pandas as pd\n",
    "import missingno as msno\n",
    "import matplotlib.pyplot as plt"
   ]
  },
  {
   "cell_type": "markdown",
   "metadata": {},
   "source": [
    "### The Dataset:\n",
    "The dataset is taken from: https://catalog.data.gov/dataset/state-agency-co2e-e54e9\n",
    "\n",
    "It is a representation of the years 2010-2016 (inclusive). Let's start with looking at the raw data given and the data dictionary."
   ]
  },
  {
   "cell_type": "code",
   "execution_count": 2,
   "metadata": {},
   "outputs": [
    {
     "data": {
      "text/html": [
       "<div>\n",
       "<style scoped>\n",
       "    .dataframe tbody tr th:only-of-type {\n",
       "        vertical-align: middle;\n",
       "    }\n",
       "\n",
       "    .dataframe tbody tr th {\n",
       "        vertical-align: top;\n",
       "    }\n",
       "\n",
       "    .dataframe thead th {\n",
       "        text-align: right;\n",
       "    }\n",
       "</style>\n",
       "<table border=\"1\" class=\"dataframe\">\n",
       "  <thead>\n",
       "    <tr style=\"text-align: right;\">\n",
       "      <th></th>\n",
       "      <th>Agency_Name</th>\n",
       "      <th>Emission_Year</th>\n",
       "      <th>Facility_Name</th>\n",
       "      <th>Source_Name</th>\n",
       "      <th>Activity_Type</th>\n",
       "      <th>Fuel_Type</th>\n",
       "      <th>Fuel</th>\n",
       "      <th>End_Use_Sector</th>\n",
       "      <th>Technology</th>\n",
       "      <th>Fuel_Quantity</th>\n",
       "      <th>Fuel_Quantity_Units</th>\n",
       "      <th>Mobile_Fuel_Quantity</th>\n",
       "      <th>Mobile_Fuel_Quantity_Units</th>\n",
       "      <th>CO2e_Metric_Tons</th>\n",
       "    </tr>\n",
       "  </thead>\n",
       "  <tbody>\n",
       "    <tr>\n",
       "      <th>0</th>\n",
       "      <td>California African American Museum</td>\n",
       "      <td>2010</td>\n",
       "      <td>Building</td>\n",
       "      <td>Electricity</td>\n",
       "      <td>Purchased Electricity - Scope 2</td>\n",
       "      <td>WECC California</td>\n",
       "      <td>All</td>\n",
       "      <td>All</td>\n",
       "      <td>Unspecified Technology</td>\n",
       "      <td>740160.000</td>\n",
       "      <td>kWh</td>\n",
       "      <td>0.0</td>\n",
       "      <td>NaN</td>\n",
       "      <td>221.13951</td>\n",
       "    </tr>\n",
       "    <tr>\n",
       "      <th>1</th>\n",
       "      <td>California African American Museum</td>\n",
       "      <td>2010</td>\n",
       "      <td>Building</td>\n",
       "      <td>Natural Gas</td>\n",
       "      <td>Stationary Combustion - Scope 1</td>\n",
       "      <td>Natural Gas</td>\n",
       "      <td>Unspecified (Weighted U.S. Average)</td>\n",
       "      <td>Commercial</td>\n",
       "      <td>Unspecified Technology</td>\n",
       "      <td>4916.000</td>\n",
       "      <td>therm</td>\n",
       "      <td>0.0</td>\n",
       "      <td>NaN</td>\n",
       "      <td>26.06463</td>\n",
       "    </tr>\n",
       "    <tr>\n",
       "      <th>2</th>\n",
       "      <td>California African American Museum</td>\n",
       "      <td>2010</td>\n",
       "      <td>Vehicle Fleet</td>\n",
       "      <td>Honda</td>\n",
       "      <td>Mobile Combustion - Scope 1</td>\n",
       "      <td>Motor Gasoline</td>\n",
       "      <td>All</td>\n",
       "      <td>Gasoline Passenger Cars</td>\n",
       "      <td>Cars (Model Year 2005)</td>\n",
       "      <td>351.000</td>\n",
       "      <td>gal</td>\n",
       "      <td>6089.0</td>\n",
       "      <td>mi</td>\n",
       "      <td>3.08178</td>\n",
       "    </tr>\n",
       "    <tr>\n",
       "      <th>3</th>\n",
       "      <td>California African American Museum</td>\n",
       "      <td>2010</td>\n",
       "      <td>Vehicle Fleet</td>\n",
       "      <td>Van</td>\n",
       "      <td>Mobile Combustion - Scope 1</td>\n",
       "      <td>Motor Gasoline</td>\n",
       "      <td>All</td>\n",
       "      <td>Gasoline Light Trucks (Vans, Pickup Trucks, SUVs)</td>\n",
       "      <td>Vans, Pickup Trucks, SUVs (Model Year 2003)</td>\n",
       "      <td>93.232</td>\n",
       "      <td>gal</td>\n",
       "      <td>2239.0</td>\n",
       "      <td>mi</td>\n",
       "      <td>0.81858</td>\n",
       "    </tr>\n",
       "    <tr>\n",
       "      <th>4</th>\n",
       "      <td>California African American Museum</td>\n",
       "      <td>2011</td>\n",
       "      <td>Building</td>\n",
       "      <td>Electricity</td>\n",
       "      <td>Purchased Electricity - Scope 2</td>\n",
       "      <td>WECC California</td>\n",
       "      <td>All</td>\n",
       "      <td>All</td>\n",
       "      <td>Unspecified Technology</td>\n",
       "      <td>758040.000</td>\n",
       "      <td>kWh</td>\n",
       "      <td>0.0</td>\n",
       "      <td>NaN</td>\n",
       "      <td>226.48156</td>\n",
       "    </tr>\n",
       "  </tbody>\n",
       "</table>\n",
       "</div>"
      ],
      "text/plain": [
       "                          Agency_Name  Emission_Year  Facility_Name  \\\n",
       "0  California African American Museum           2010       Building   \n",
       "1  California African American Museum           2010       Building   \n",
       "2  California African American Museum           2010  Vehicle Fleet   \n",
       "3  California African American Museum           2010  Vehicle Fleet   \n",
       "4  California African American Museum           2011       Building   \n",
       "\n",
       "   Source_Name                    Activity_Type        Fuel_Type  \\\n",
       "0  Electricity  Purchased Electricity - Scope 2  WECC California   \n",
       "1  Natural Gas  Stationary Combustion - Scope 1      Natural Gas   \n",
       "2        Honda      Mobile Combustion - Scope 1   Motor Gasoline   \n",
       "3          Van      Mobile Combustion - Scope 1   Motor Gasoline   \n",
       "4  Electricity  Purchased Electricity - Scope 2  WECC California   \n",
       "\n",
       "                                  Fuel  \\\n",
       "0                                  All   \n",
       "1  Unspecified (Weighted U.S. Average)   \n",
       "2                                  All   \n",
       "3                                  All   \n",
       "4                                  All   \n",
       "\n",
       "                                      End_Use_Sector  \\\n",
       "0                                                All   \n",
       "1                                         Commercial   \n",
       "2                            Gasoline Passenger Cars   \n",
       "3  Gasoline Light Trucks (Vans, Pickup Trucks, SUVs)   \n",
       "4                                                All   \n",
       "\n",
       "                                    Technology  Fuel_Quantity  \\\n",
       "0                       Unspecified Technology     740160.000   \n",
       "1                       Unspecified Technology       4916.000   \n",
       "2                       Cars (Model Year 2005)        351.000   \n",
       "3  Vans, Pickup Trucks, SUVs (Model Year 2003)         93.232   \n",
       "4                       Unspecified Technology     758040.000   \n",
       "\n",
       "  Fuel_Quantity_Units  Mobile_Fuel_Quantity Mobile_Fuel_Quantity_Units  \\\n",
       "0                 kWh                   0.0                        NaN   \n",
       "1               therm                   0.0                        NaN   \n",
       "2                 gal                6089.0                         mi   \n",
       "3                 gal                2239.0                         mi   \n",
       "4                 kWh                   0.0                        NaN   \n",
       "\n",
       "   CO2e_Metric_Tons  \n",
       "0         221.13951  \n",
       "1          26.06463  \n",
       "2           3.08178  \n",
       "3           0.81858  \n",
       "4         226.48156  "
      ]
     },
     "execution_count": 2,
     "metadata": {},
     "output_type": "execute_result"
    }
   ],
   "source": [
    "file_path = 'csv_file/'\n",
    "california_co2e = pd.read_csv(file_path + 'ca-agencies-ghg-dataset-2010-2016.csv',engine='python')\n",
    "california_co2e.head()"
   ]
  },
  {
   "cell_type": "markdown",
   "metadata": {},
   "source": [
    "### Data Dictionary\n",
    "The Data Dictionary below is taken from the official 2014 Data Dictionary. Not all Fields are the same and some are missing. A 2016 Data Dictionary could not be found. Green House Gas will be be referred as GHG.\n",
    "* **Agency_Name :** Name of State Agency, also known as the Entity.\n",
    "* **Emission_Year :** Year of GHG emissions\n",
    "* **Facility_Name :** Name of a facility for each agency. Agencies can choose to separate their statewide operations into multiple facilities in CRIS, or pool them into a single facility at the entity-level \n",
    "* **Source_Name :** This is the name of a source of emissions within each facility. Examples include vehicles, natural gas, and electricity.\n",
    "* **Activity_Type :** This is the category of activity which releases greenhouse gas emissions. There are three category types: Scope 1 (direct emissions), Scope 2 (indirect Emissions), and Biogenic (stationary or mobile combustion of biomass sources). Stationary sources are not movable in operation, such as boilers, furnaces, and emergency generators. Mobile combustion includes vehicles and anything which can move while in operation. Purchased electricity falls under Scope 2, indirect emissions. \n",
    "* **Fuel_Type :** The fuel type refers to the type of fuel that the source uses. For purchased electricity, the fuel type will be WECC California, which is the name of the regional electric grid. This information is selected by the state agency to determine the correct emission factor for CO2. \n",
    "* **Fuel :** This is more specific information, if applicable, about a fuel type. If there is no more specific information, the default value will be All. This information is selected by the state agency to determine the correct emission factor for CO2.\n",
    "* **End_Use_Sector :** For non-electricity sources, this indicates the sector that a specific source belongs to. For vehicles, it indicates the vehicle type. For stationary sources, it indicates what industry sector (commercial, industrial, residential, electric power) the source belongs to. This information is selected by the state agency to determine the correct emission factor for CH4 and N2O.\n",
    "* **Technology :** Depending upon the end use sector, technology refers to the emissions control, model year, or other technology, usually of combustion sources. Purchased electricity will have an unspecified technology as a default value. This information is selected by the state agency to determine the correct emission factor for CH4 and N2O.\n",
    "* **Fuel_Quantity :** NA\n",
    "* **Fuel_Quantity_Units :** NA\n",
    "* **Mobile_Fuel_Quantity :** NA\n",
    "* **Mobile_Fuel_Quantity_Units :** NA\n",
    "* **CO2e_Metric_Tons :** This is the number, in metric tons, of carbon dioxide equivalent that each source emits annually. Carbon Dioxide equivalent is determined by adding up emissions of CO2, CH4, and N2O for each source, multiplying each source by its global warming potential (GWP) and summing these emissions into a single number. "
   ]
  },
  {
   "cell_type": "markdown",
   "metadata": {},
   "source": [
    "### A General Look:\n",
    "Let's start exploring the data by looking at data types, missing data and summary statistics. "
   ]
  },
  {
   "cell_type": "code",
   "execution_count": 3,
   "metadata": {},
   "outputs": [
    {
     "name": "stdout",
     "output_type": "stream",
     "text": [
      "<class 'pandas.core.frame.DataFrame'>\n",
      "RangeIndex: 10917 entries, 0 to 10916\n",
      "Data columns (total 14 columns):\n",
      "Agency_Name                   10917 non-null object\n",
      "Emission_Year                 10917 non-null int64\n",
      "Facility_Name                 10917 non-null object\n",
      "Source_Name                   10917 non-null object\n",
      "Activity_Type                 10917 non-null object\n",
      "Fuel_Type                     10724 non-null object\n",
      "Fuel                          10724 non-null object\n",
      "End_Use_Sector                10917 non-null object\n",
      "Technology                    10917 non-null object\n",
      "Fuel_Quantity                 10494 non-null float64\n",
      "Fuel_Quantity_Units           10843 non-null object\n",
      "Mobile_Fuel_Quantity          10845 non-null float64\n",
      "Mobile_Fuel_Quantity_Units    2192 non-null object\n",
      "CO2e_Metric_Tons              10568 non-null float64\n",
      "dtypes: float64(3), int64(1), object(10)\n",
      "memory usage: 1.2+ MB\n"
     ]
    },
    {
     "data": {
      "text/plain": [
       "None"
      ]
     },
     "metadata": {},
     "output_type": "display_data"
    },
    {
     "data": {
      "text/html": [
       "<div>\n",
       "<style scoped>\n",
       "    .dataframe tbody tr th:only-of-type {\n",
       "        vertical-align: middle;\n",
       "    }\n",
       "\n",
       "    .dataframe tbody tr th {\n",
       "        vertical-align: top;\n",
       "    }\n",
       "\n",
       "    .dataframe thead th {\n",
       "        text-align: right;\n",
       "    }\n",
       "</style>\n",
       "<table border=\"1\" class=\"dataframe\">\n",
       "  <thead>\n",
       "    <tr style=\"text-align: right;\">\n",
       "      <th></th>\n",
       "      <th>Emission_Year</th>\n",
       "      <th>Fuel_Quantity</th>\n",
       "      <th>Mobile_Fuel_Quantity</th>\n",
       "      <th>CO2e_Metric_Tons</th>\n",
       "    </tr>\n",
       "  </thead>\n",
       "  <tbody>\n",
       "    <tr>\n",
       "      <th>count</th>\n",
       "      <td>10917.000000</td>\n",
       "      <td>1.049400e+04</td>\n",
       "      <td>1.084500e+04</td>\n",
       "      <td>1.056800e+04</td>\n",
       "    </tr>\n",
       "    <tr>\n",
       "      <th>mean</th>\n",
       "      <td>2013.661629</td>\n",
       "      <td>6.164358e+06</td>\n",
       "      <td>1.429822e+05</td>\n",
       "      <td>1.692429e+03</td>\n",
       "    </tr>\n",
       "    <tr>\n",
       "      <th>std</th>\n",
       "      <td>2.018421</td>\n",
       "      <td>2.688140e+08</td>\n",
       "      <td>3.181972e+06</td>\n",
       "      <td>2.676186e+04</td>\n",
       "    </tr>\n",
       "    <tr>\n",
       "      <th>min</th>\n",
       "      <td>2010.000000</td>\n",
       "      <td>0.000000e+00</td>\n",
       "      <td>0.000000e+00</td>\n",
       "      <td>0.000000e+00</td>\n",
       "    </tr>\n",
       "    <tr>\n",
       "      <th>25%</th>\n",
       "      <td>2012.000000</td>\n",
       "      <td>2.659750e+03</td>\n",
       "      <td>0.000000e+00</td>\n",
       "      <td>5.706202e+00</td>\n",
       "    </tr>\n",
       "    <tr>\n",
       "      <th>50%</th>\n",
       "      <td>2014.000000</td>\n",
       "      <td>3.599428e+04</td>\n",
       "      <td>0.000000e+00</td>\n",
       "      <td>3.304822e+01</td>\n",
       "    </tr>\n",
       "    <tr>\n",
       "      <th>75%</th>\n",
       "      <td>2015.000000</td>\n",
       "      <td>2.626140e+05</td>\n",
       "      <td>0.000000e+00</td>\n",
       "      <td>1.880655e+02</td>\n",
       "    </tr>\n",
       "    <tr>\n",
       "      <th>max</th>\n",
       "      <td>2016.000000</td>\n",
       "      <td>2.008479e+10</td>\n",
       "      <td>1.408489e+08</td>\n",
       "      <td>1.025543e+06</td>\n",
       "    </tr>\n",
       "  </tbody>\n",
       "</table>\n",
       "</div>"
      ],
      "text/plain": [
       "       Emission_Year  Fuel_Quantity  Mobile_Fuel_Quantity  CO2e_Metric_Tons\n",
       "count   10917.000000   1.049400e+04          1.084500e+04      1.056800e+04\n",
       "mean     2013.661629   6.164358e+06          1.429822e+05      1.692429e+03\n",
       "std         2.018421   2.688140e+08          3.181972e+06      2.676186e+04\n",
       "min      2010.000000   0.000000e+00          0.000000e+00      0.000000e+00\n",
       "25%      2012.000000   2.659750e+03          0.000000e+00      5.706202e+00\n",
       "50%      2014.000000   3.599428e+04          0.000000e+00      3.304822e+01\n",
       "75%      2015.000000   2.626140e+05          0.000000e+00      1.880655e+02\n",
       "max      2016.000000   2.008479e+10          1.408489e+08      1.025543e+06"
      ]
     },
     "metadata": {},
     "output_type": "display_data"
    },
    {
     "data": {
      "text/plain": [
       "'There are 42 unique entries in the Agency_Name column'"
      ]
     },
     "metadata": {},
     "output_type": "display_data"
    },
    {
     "data": {
      "text/plain": [
       "'There are 7 unique entries in the Emission_Year column'"
      ]
     },
     "metadata": {},
     "output_type": "display_data"
    },
    {
     "data": {
      "text/plain": [
       "'There are 1113 unique entries in the Facility_Name column'"
      ]
     },
     "metadata": {},
     "output_type": "display_data"
    },
    {
     "data": {
      "text/plain": [
       "'There are 545 unique entries in the Source_Name column'"
      ]
     },
     "metadata": {},
     "output_type": "display_data"
    },
    {
     "data": {
      "text/plain": [
       "'There are 15 unique entries in the Activity_Type column'"
      ]
     },
     "metadata": {},
     "output_type": "display_data"
    },
    {
     "data": {
      "text/plain": [
       "'There are 23 unique entries in the Fuel_Type column'"
      ]
     },
     "metadata": {},
     "output_type": "display_data"
    },
    {
     "data": {
      "text/plain": [
       "'There are 35 unique entries in the Fuel column'"
      ]
     },
     "metadata": {},
     "output_type": "display_data"
    },
    {
     "data": {
      "text/plain": [
       "'There are 26 unique entries in the End_Use_Sector column'"
      ]
     },
     "metadata": {},
     "output_type": "display_data"
    },
    {
     "data": {
      "text/plain": [
       "'There are 85 unique entries in the Technology column'"
      ]
     },
     "metadata": {},
     "output_type": "display_data"
    },
    {
     "data": {
      "text/plain": [
       "'There are 7378 unique entries in the Fuel_Quantity column'"
      ]
     },
     "metadata": {},
     "output_type": "display_data"
    },
    {
     "data": {
      "text/plain": [
       "'There are 12 unique entries in the Fuel_Quantity_Units column'"
      ]
     },
     "metadata": {},
     "output_type": "display_data"
    },
    {
     "data": {
      "text/plain": [
       "'There are 872 unique entries in the Mobile_Fuel_Quantity column'"
      ]
     },
     "metadata": {},
     "output_type": "display_data"
    },
    {
     "data": {
      "text/plain": [
       "'There are 6 unique entries in the Mobile_Fuel_Quantity_Units column'"
      ]
     },
     "metadata": {},
     "output_type": "display_data"
    },
    {
     "data": {
      "text/plain": [
       "'There are 8470 unique entries in the CO2e_Metric_Tons column'"
      ]
     },
     "metadata": {},
     "output_type": "display_data"
    }
   ],
   "source": [
    "display(california_co2e.info())\n",
    "display(california_co2e.describe())\n",
    "for col in california_co2e.columns:\n",
    "    display('There are ' + str(california_co2e[col].nunique()) + \n",
    "            ' unique entries in the ' + str(col) + ' column')\n",
    "   "
   ]
  },
  {
   "cell_type": "code",
   "execution_count": 4,
   "metadata": {},
   "outputs": [
    {
     "data": {
      "text/plain": [
       "<matplotlib.axes._subplots.AxesSubplot at 0x7fea033a00d0>"
      ]
     },
     "execution_count": 4,
     "metadata": {},
     "output_type": "execute_result"
    },
    {
     "data": {
      "image/png": "[encoded data removed]",
      "text/plain": [
       "<Figure size 1800x720 with 2 Axes>"
      ]
     },
     "metadata": {
      "needs_background": "light"
     },
     "output_type": "display_data"
    }
   ],
   "source": [
    "msno.matrix(california_co2e)"
   ]
  },
  {
   "cell_type": "markdown",
   "metadata": {},
   "source": [
    "### Three Types of Scopes\n",
    "The data dictionary states that there are three types of scopes in the ` activity_type ` column, but we can see that there are actually 15 unique entries. We can add a new column that specifies the scope and visualize the results."
   ]
  },
  {
   "cell_type": "code",
   "execution_count": 49,
   "metadata": {},
   "outputs": [
    {
     "data": {
      "text/html": [
       "<div>\n",
       "<style scoped>\n",
       "    .dataframe tbody tr th:only-of-type {\n",
       "        vertical-align: middle;\n",
       "    }\n",
       "\n",
       "    .dataframe tbody tr th {\n",
       "        vertical-align: top;\n",
       "    }\n",
       "\n",
       "    .dataframe thead th {\n",
       "        text-align: right;\n",
       "    }\n",
       "</style>\n",
       "<table border=\"1\" class=\"dataframe\">\n",
       "  <thead>\n",
       "    <tr style=\"text-align: right;\">\n",
       "      <th></th>\n",
       "      <th>Scopes</th>\n",
       "      <th>CO2e_Metric_Tons</th>\n",
       "    </tr>\n",
       "  </thead>\n",
       "  <tbody>\n",
       "    <tr>\n",
       "      <th>0</th>\n",
       "      <td>Scope 1</td>\n",
       "      <td>7615640</td>\n",
       "    </tr>\n",
       "    <tr>\n",
       "      <th>1</th>\n",
       "      <td>Scope 2</td>\n",
       "      <td>2891769</td>\n",
       "    </tr>\n",
       "    <tr>\n",
       "      <th>2</th>\n",
       "      <td>Scope 3</td>\n",
       "      <td>7378179</td>\n",
       "    </tr>\n",
       "  </tbody>\n",
       "</table>\n",
       "</div>"
      ],
      "text/plain": [
       "    Scopes  CO2e_Metric_Tons\n",
       "0  Scope 1           7615640\n",
       "1  Scope 2           2891769\n",
       "2  Scope 3           7378179"
      ]
     },
     "execution_count": 49,
     "metadata": {},
     "output_type": "execute_result"
    }
   ],
   "source": [
    "scopes = []\n",
    "for row in california_co2e['Activity_Type']:\n",
    "    if 'Scope 1' in row:\n",
    "        scopes.append('Scope 1')\n",
    "    elif 'Scope 2' in row:\n",
    "        scopes.append('Scope 2')\n",
    "    scopes.append('Scope 3')\n",
    "california_co2e['Scopes'] = pd.Series(scopes)\n",
    "scopes = california_co2e[['Scopes', 'CO2e_Metric_Tons']].groupby('Scopes', as_index=False).sum()\n",
    "scopes['CO2e_Metric_Tons'] = scopes['CO2e_Metric_Tons'].astype('int64')\n",
    "scopes"
   ]
  },
  {
   "cell_type": "code",
   "execution_count": 38,
   "metadata": {},
   "outputs": [
    {
     "data": {
      "image/png": "[encoded data removed]",
      "text/plain": [
       "<Figure size 432x288 with 1 Axes>"
      ]
     },
     "metadata": {
      "needs_background": "light"
     },
     "output_type": "display_data"
    }
   ],
   "source": [
    "plt.bar(scopes['Scopes'], scopes['CO2e_Metric_Tons'])\n",
    "plt.ylabel('Total CO2E Per Scope')\n",
    "plt.show()"
   ]
  },
  {
   "cell_type": "markdown",
   "metadata": {},
   "source": [
    "#### Observations:\n",
    "- Most of the CO2e came from Scope 1 which means they are from direct emissions.\n",
    "- The second most came from Scope 3 which can use a little more explanation: ```Not all stationary combustion sources burn fossil fuels. Biomass (non-fossil) fuels (e.g., forestry-derived, agriculture-derived, biomass-derived gases) may be combusted in stationary sources independently or co-fired with fossil fuels... The GHG Protocol requires that CO2 emissions from biomass combustion at stationary sources are reported as biomass CO2 emissions (in terms of total amount of biogenic CO2 emitted) and are tracked separately from fossil CO2 emissions. Biomass CO2 emissions are not included in the overall CO2-equivalent emissions inventory for organizations following this guidance. CH4 and N2O emissions from biomass are included in the overall CO2-equivalent emissions inventory.Recently, there has been increased scientific inquiry into accounting for biomass in energy production. The EPA’s Science Advisory Board recently found that “there are circumstances in which biomass is grown, harvested and combusted in a carbon neutral fashion but carbon neutrality may not an appropriate assumption; it is a conclusion that should be reached only after considering a particular feedstock’s production and consumption cycle. There is considerable heterogeneity in feedstock types, sources and production methods and thus net biogenic carbon emissions will vary considerably.”``` Taken from: Greenhouse Gas Inventory GuidanceDirect Emissions from Stationary Combustion Sources, https://www.epa.gov/sites/production/files/2016-03/documents/stationaryemissions_3_2016.pdf"
   ]
  },
  {
   "cell_type": "markdown",
   "metadata": {},
   "source": [
    "### Finer Details\n",
    "Now that we have a overall view of our scopes, we can go look at the finer details in the `Activity_Type` column."
   ]
  },
  {
   "cell_type": "code",
   "execution_count": 47,
   "metadata": {},
   "outputs": [
    {
     "data": {
      "text/html": [
       "<div>\n",
       "<style scoped>\n",
       "    .dataframe tbody tr th:only-of-type {\n",
       "        vertical-align: middle;\n",
       "    }\n",
       "\n",
       "    .dataframe tbody tr th {\n",
       "        vertical-align: top;\n",
       "    }\n",
       "\n",
       "    .dataframe thead th {\n",
       "        text-align: right;\n",
       "    }\n",
       "</style>\n",
       "<table border=\"1\" class=\"dataframe\">\n",
       "  <thead>\n",
       "    <tr style=\"text-align: right;\">\n",
       "      <th></th>\n",
       "      <th>Activity_Type</th>\n",
       "      <th>CO2e_Metric_Tons</th>\n",
       "    </tr>\n",
       "  </thead>\n",
       "  <tbody>\n",
       "    <tr>\n",
       "      <th>0</th>\n",
       "      <td>Employee Commuting - Scope 3 (Optional)</td>\n",
       "      <td>3334</td>\n",
       "    </tr>\n",
       "    <tr>\n",
       "      <th>1</th>\n",
       "      <td>Mobile Biomass Combustion - Biomass</td>\n",
       "      <td>65098</td>\n",
       "    </tr>\n",
       "    <tr>\n",
       "      <th>2</th>\n",
       "      <td>Mobile Combustion - Scope 1</td>\n",
       "      <td>1816068</td>\n",
       "    </tr>\n",
       "    <tr>\n",
       "      <th>3</th>\n",
       "      <td>Purchased Cooling - Scope 2</td>\n",
       "      <td>2</td>\n",
       "    </tr>\n",
       "    <tr>\n",
       "      <th>4</th>\n",
       "      <td>Purchased Electricity - Location Based - Scope 2</td>\n",
       "      <td>1676356</td>\n",
       "    </tr>\n",
       "    <tr>\n",
       "      <th>5</th>\n",
       "      <td>Purchased Electricity - Market Based - Biomass</td>\n",
       "      <td>45759</td>\n",
       "    </tr>\n",
       "    <tr>\n",
       "      <th>6</th>\n",
       "      <td>Purchased Electricity - Market Based - Scope 2</td>\n",
       "      <td>3372058</td>\n",
       "    </tr>\n",
       "    <tr>\n",
       "      <th>7</th>\n",
       "      <td>Purchased Electricity - Scope 2</td>\n",
       "      <td>5687146</td>\n",
       "    </tr>\n",
       "    <tr>\n",
       "      <th>8</th>\n",
       "      <td>Purchased Heating - Location Based - Scope 2</td>\n",
       "      <td>4041</td>\n",
       "    </tr>\n",
       "    <tr>\n",
       "      <th>9</th>\n",
       "      <td>Purchased Heating - Market Based - Scope 2</td>\n",
       "      <td>4055</td>\n",
       "    </tr>\n",
       "    <tr>\n",
       "      <th>10</th>\n",
       "      <td>Purchased Heating - Scope 2</td>\n",
       "      <td>43</td>\n",
       "    </tr>\n",
       "    <tr>\n",
       "      <th>11</th>\n",
       "      <td>Purchased Steam - Scope 2</td>\n",
       "      <td>5876</td>\n",
       "    </tr>\n",
       "    <tr>\n",
       "      <th>12</th>\n",
       "      <td>Scope 1 (Optional)</td>\n",
       "      <td>0</td>\n",
       "    </tr>\n",
       "    <tr>\n",
       "      <th>13</th>\n",
       "      <td>Scope 2 (Optional)</td>\n",
       "      <td>222</td>\n",
       "    </tr>\n",
       "    <tr>\n",
       "      <th>14</th>\n",
       "      <td>Stationary Combustion - Scope 1</td>\n",
       "      <td>5205525</td>\n",
       "    </tr>\n",
       "  </tbody>\n",
       "</table>\n",
       "</div>"
      ],
      "text/plain": [
       "                                       Activity_Type  CO2e_Metric_Tons\n",
       "0            Employee Commuting - Scope 3 (Optional)              3334\n",
       "1                Mobile Biomass Combustion - Biomass             65098\n",
       "2                        Mobile Combustion - Scope 1           1816068\n",
       "3                        Purchased Cooling - Scope 2                 2\n",
       "4   Purchased Electricity - Location Based - Scope 2           1676356\n",
       "5     Purchased Electricity - Market Based - Biomass             45759\n",
       "6     Purchased Electricity - Market Based - Scope 2           3372058\n",
       "7                    Purchased Electricity - Scope 2           5687146\n",
       "8       Purchased Heating - Location Based - Scope 2              4041\n",
       "9         Purchased Heating - Market Based - Scope 2              4055\n",
       "10                       Purchased Heating - Scope 2                43\n",
       "11                         Purchased Steam - Scope 2              5876\n",
       "12                                Scope 1 (Optional)                 0\n",
       "13                                Scope 2 (Optional)               222\n",
       "14                   Stationary Combustion - Scope 1           5205525"
      ]
     },
     "execution_count": 47,
     "metadata": {},
     "output_type": "execute_result"
    }
   ],
   "source": [
    "activities_scopes = california_co2e[['Activity_Type', 'CO2e_Metric_Tons']].groupby('Activity_Type', as_index=False).sum()\n",
    "activities_scopes['CO2e_Metric_Tons'] = activities_scopes['CO2e_Metric_Tons'].astype('int64')\n",
    "activities_scopes"
   ]
  },
  {
   "cell_type": "code",
   "execution_count": 110,
   "metadata": {},
   "outputs": [
    {
     "data": {
      "image/png": "[encoded data removed]",
      "text/plain": [
       "<Figure size 1440x720 with 1 Axes>"
      ]
     },
     "metadata": {
      "needs_background": "light"
     },
     "output_type": "display_data"
    }
   ],
   "source": [
    "plt.stem(activities_scopes['Activity_Type'], activities_scopes['CO2e_Metric_Tons'], use_line_collection=True)\n",
    "plt.xticks(rotation=90, ha='center')\n",
    "plt.ylim(0, None)\n",
    "plt.rcParams['figure.figsize'] = [20, 10]\n"
   ]
  },
  {
   "cell_type": "code",
   "execution_count": 25,
   "metadata": {
    "scrolled": true
   },
   "outputs": [
    {
     "data": {
      "text/html": [
       "<div>\n",
       "<style scoped>\n",
       "    .dataframe tbody tr th:only-of-type {\n",
       "        vertical-align: middle;\n",
       "    }\n",
       "\n",
       "    .dataframe tbody tr th {\n",
       "        vertical-align: top;\n",
       "    }\n",
       "\n",
       "    .dataframe thead th {\n",
       "        text-align: right;\n",
       "    }\n",
       "</style>\n",
       "<table border=\"1\" class=\"dataframe\">\n",
       "  <thead>\n",
       "    <tr style=\"text-align: right;\">\n",
       "      <th></th>\n",
       "      <th>Agency_Name</th>\n",
       "      <th>Emission_Year</th>\n",
       "      <th>Facility_Name</th>\n",
       "      <th>Source_Name</th>\n",
       "      <th>Activity_Type</th>\n",
       "      <th>Fuel_Type</th>\n",
       "      <th>Fuel</th>\n",
       "      <th>End_Use_Sector</th>\n",
       "      <th>Technology</th>\n",
       "      <th>Fuel_Quantity</th>\n",
       "      <th>Fuel_Quantity_Units</th>\n",
       "      <th>Mobile_Fuel_Quantity</th>\n",
       "      <th>Mobile_Fuel_Quantity_Units</th>\n",
       "      <th>CO2e_Metric_Tons</th>\n",
       "      <th>Scopes</th>\n",
       "    </tr>\n",
       "  </thead>\n",
       "  <tbody>\n",
       "    <tr>\n",
       "      <th>122</th>\n",
       "      <td>California Coastal Commission</td>\n",
       "      <td>2016</td>\n",
       "      <td>North Coast District Office</td>\n",
       "      <td>Electricity - Location Based</td>\n",
       "      <td>Purchased Electricity - Location Based - Scope 2</td>\n",
       "      <td>Regional Grid-Average</td>\n",
       "      <td>WECC California</td>\n",
       "      <td>2016</td>\n",
       "      <td>Unspecified Technology</td>\n",
       "      <td>0.0</td>\n",
       "      <td>kWh</td>\n",
       "      <td>0.0</td>\n",
       "      <td>NaN</td>\n",
       "      <td>0.0</td>\n",
       "      <td>Scope 2</td>\n",
       "    </tr>\n",
       "    <tr>\n",
       "      <th>123</th>\n",
       "      <td>California Coastal Commission</td>\n",
       "      <td>2016</td>\n",
       "      <td>North Coast District Office</td>\n",
       "      <td>Electricity - Market Based</td>\n",
       "      <td>Purchased Electricity - Market Based - Scope 2</td>\n",
       "      <td>Regional Grid-Average</td>\n",
       "      <td>WECC California</td>\n",
       "      <td>2016</td>\n",
       "      <td>Unspecified Technology</td>\n",
       "      <td>0.0</td>\n",
       "      <td>kWh</td>\n",
       "      <td>0.0</td>\n",
       "      <td>NaN</td>\n",
       "      <td>0.0</td>\n",
       "      <td>Scope 3</td>\n",
       "    </tr>\n",
       "    <tr>\n",
       "      <th>484</th>\n",
       "      <td>California Department of Consumer Affairs</td>\n",
       "      <td>2014</td>\n",
       "      <td>4124 W. Swift Avenue</td>\n",
       "      <td>Natural Gas</td>\n",
       "      <td>Stationary Combustion - Scope 1</td>\n",
       "      <td>Natural Gas</td>\n",
       "      <td>Unspecified (Weighted U.S. Average)</td>\n",
       "      <td>Commercial</td>\n",
       "      <td>Unspecified Technology</td>\n",
       "      <td>0.0</td>\n",
       "      <td>MMBtu</td>\n",
       "      <td>0.0</td>\n",
       "      <td>NaN</td>\n",
       "      <td>0.0</td>\n",
       "      <td>Scope 2</td>\n",
       "    </tr>\n",
       "    <tr>\n",
       "      <th>554</th>\n",
       "      <td>California Department of Consumer Affairs</td>\n",
       "      <td>2016</td>\n",
       "      <td>2625 Aztec Drive</td>\n",
       "      <td>Electricity - Location Based</td>\n",
       "      <td>Purchased Electricity - Location Based - Scope 2</td>\n",
       "      <td>Regional Grid-Average</td>\n",
       "      <td>WECC California</td>\n",
       "      <td>2016</td>\n",
       "      <td>Unspecified Technology</td>\n",
       "      <td>0.0</td>\n",
       "      <td>kWh</td>\n",
       "      <td>0.0</td>\n",
       "      <td>NaN</td>\n",
       "      <td>0.0</td>\n",
       "      <td>Scope 2</td>\n",
       "    </tr>\n",
       "    <tr>\n",
       "      <th>1353</th>\n",
       "      <td>California Department of Corrections and Rehab...</td>\n",
       "      <td>2015</td>\n",
       "      <td>CAL-CALIPATRIA STATE PRISON</td>\n",
       "      <td>Propane</td>\n",
       "      <td>Stationary Combustion - Scope 1</td>\n",
       "      <td>Fossil Fuel-derived Fuels (gaseous)</td>\n",
       "      <td>Propane (Gas)</td>\n",
       "      <td>Industrial</td>\n",
       "      <td>Unspecified Technology</td>\n",
       "      <td>0.0</td>\n",
       "      <td>GGE</td>\n",
       "      <td>0.0</td>\n",
       "      <td>NaN</td>\n",
       "      <td>0.0</td>\n",
       "      <td>Scope 2</td>\n",
       "    </tr>\n",
       "  </tbody>\n",
       "</table>\n",
       "</div>"
      ],
      "text/plain": [
       "                                            Agency_Name  Emission_Year  \\\n",
       "122                       California Coastal Commission           2016   \n",
       "123                       California Coastal Commission           2016   \n",
       "484           California Department of Consumer Affairs           2014   \n",
       "554           California Department of Consumer Affairs           2016   \n",
       "1353  California Department of Corrections and Rehab...           2015   \n",
       "\n",
       "                    Facility_Name                   Source_Name  \\\n",
       "122   North Coast District Office  Electricity - Location Based   \n",
       "123   North Coast District Office    Electricity - Market Based   \n",
       "484          4124 W. Swift Avenue                   Natural Gas   \n",
       "554              2625 Aztec Drive  Electricity - Location Based   \n",
       "1353  CAL-CALIPATRIA STATE PRISON                       Propane   \n",
       "\n",
       "                                         Activity_Type  \\\n",
       "122   Purchased Electricity - Location Based - Scope 2   \n",
       "123     Purchased Electricity - Market Based - Scope 2   \n",
       "484                    Stationary Combustion - Scope 1   \n",
       "554   Purchased Electricity - Location Based - Scope 2   \n",
       "1353                   Stationary Combustion - Scope 1   \n",
       "\n",
       "                                Fuel_Type  \\\n",
       "122                 Regional Grid-Average   \n",
       "123                 Regional Grid-Average   \n",
       "484                           Natural Gas   \n",
       "554                 Regional Grid-Average   \n",
       "1353  Fossil Fuel-derived Fuels (gaseous)   \n",
       "\n",
       "                                     Fuel End_Use_Sector  \\\n",
       "122                       WECC California           2016   \n",
       "123                       WECC California           2016   \n",
       "484   Unspecified (Weighted U.S. Average)     Commercial   \n",
       "554                       WECC California           2016   \n",
       "1353                        Propane (Gas)     Industrial   \n",
       "\n",
       "                  Technology  Fuel_Quantity Fuel_Quantity_Units  \\\n",
       "122   Unspecified Technology            0.0                 kWh   \n",
       "123   Unspecified Technology            0.0                 kWh   \n",
       "484   Unspecified Technology            0.0               MMBtu   \n",
       "554   Unspecified Technology            0.0                 kWh   \n",
       "1353  Unspecified Technology            0.0                 GGE   \n",
       "\n",
       "      Mobile_Fuel_Quantity Mobile_Fuel_Quantity_Units  CO2e_Metric_Tons  \\\n",
       "122                    0.0                        NaN               0.0   \n",
       "123                    0.0                        NaN               0.0   \n",
       "484                    0.0                        NaN               0.0   \n",
       "554                    0.0                        NaN               0.0   \n",
       "1353                   0.0                        NaN               0.0   \n",
       "\n",
       "       Scopes  \n",
       "122   Scope 2  \n",
       "123   Scope 3  \n",
       "484   Scope 2  \n",
       "554   Scope 2  \n",
       "1353  Scope 2  "
      ]
     },
     "metadata": {},
     "output_type": "display_data"
    },
    {
     "data": {
      "text/html": [
       "<div>\n",
       "<style scoped>\n",
       "    .dataframe tbody tr th:only-of-type {\n",
       "        vertical-align: middle;\n",
       "    }\n",
       "\n",
       "    .dataframe tbody tr th {\n",
       "        vertical-align: top;\n",
       "    }\n",
       "\n",
       "    .dataframe thead th {\n",
       "        text-align: right;\n",
       "    }\n",
       "</style>\n",
       "<table border=\"1\" class=\"dataframe\">\n",
       "  <thead>\n",
       "    <tr style=\"text-align: right;\">\n",
       "      <th></th>\n",
       "      <th>Agency_Name</th>\n",
       "      <th>Emission_Year</th>\n",
       "      <th>Facility_Name</th>\n",
       "      <th>Source_Name</th>\n",
       "      <th>Activity_Type</th>\n",
       "      <th>Fuel_Type</th>\n",
       "      <th>Fuel</th>\n",
       "      <th>End_Use_Sector</th>\n",
       "      <th>Technology</th>\n",
       "      <th>Fuel_Quantity</th>\n",
       "      <th>Fuel_Quantity_Units</th>\n",
       "      <th>Mobile_Fuel_Quantity</th>\n",
       "      <th>Mobile_Fuel_Quantity_Units</th>\n",
       "      <th>CO2e_Metric_Tons</th>\n",
       "      <th>Scopes</th>\n",
       "    </tr>\n",
       "  </thead>\n",
       "  <tbody>\n",
       "    <tr>\n",
       "      <th>77</th>\n",
       "      <td>California Coastal Commission</td>\n",
       "      <td>2014</td>\n",
       "      <td>North Coast District Office (previous location)</td>\n",
       "      <td>Electricity</td>\n",
       "      <td>Purchased Electricity - Scope 2</td>\n",
       "      <td>WECC California</td>\n",
       "      <td>All</td>\n",
       "      <td>All</td>\n",
       "      <td>Unspecified Technology</td>\n",
       "      <td>NaN</td>\n",
       "      <td>kWh</td>\n",
       "      <td>0.0</td>\n",
       "      <td>NaN</td>\n",
       "      <td>NaN</td>\n",
       "      <td>Scope 3</td>\n",
       "    </tr>\n",
       "    <tr>\n",
       "      <th>81</th>\n",
       "      <td>California Coastal Commission</td>\n",
       "      <td>2014</td>\n",
       "      <td>South Coast District Office</td>\n",
       "      <td>Natural Gas</td>\n",
       "      <td>Scope 2 (Optional)</td>\n",
       "      <td>NaN</td>\n",
       "      <td>NaN</td>\n",
       "      <td>All</td>\n",
       "      <td>Unspecified Technology</td>\n",
       "      <td>NaN</td>\n",
       "      <td>therm</td>\n",
       "      <td>0.0</td>\n",
       "      <td>NaN</td>\n",
       "      <td>NaN</td>\n",
       "      <td>Scope 3</td>\n",
       "    </tr>\n",
       "    <tr>\n",
       "      <th>1373</th>\n",
       "      <td>California Department of Corrections and Rehab...</td>\n",
       "      <td>2015</td>\n",
       "      <td>CDCR - Fleet Vehicles</td>\n",
       "      <td>CNG</td>\n",
       "      <td>Mobile Combustion - Scope 1</td>\n",
       "      <td>Alternative Fuels</td>\n",
       "      <td>Compressed Natural Gas (CNG)</td>\n",
       "      <td>Medium and Heavy-Duty Vehicles</td>\n",
       "      <td>Unspecified Technology</td>\n",
       "      <td>NaN</td>\n",
       "      <td>GGE</td>\n",
       "      <td>NaN</td>\n",
       "      <td>mi</td>\n",
       "      <td>NaN</td>\n",
       "      <td>Scope 1</td>\n",
       "    </tr>\n",
       "    <tr>\n",
       "      <th>1374</th>\n",
       "      <td>California Department of Corrections and Rehab...</td>\n",
       "      <td>2015</td>\n",
       "      <td>CDCR - Fleet Vehicles</td>\n",
       "      <td>Diesel</td>\n",
       "      <td>Mobile Combustion - Scope 1</td>\n",
       "      <td>Diesel Fuel</td>\n",
       "      <td>All</td>\n",
       "      <td>Diesel Medium and Heavy-Duty Trucks and Busses</td>\n",
       "      <td>Medium and Heavy-Duty Vehicles (Model Years 19...</td>\n",
       "      <td>NaN</td>\n",
       "      <td>gal</td>\n",
       "      <td>NaN</td>\n",
       "      <td>mi</td>\n",
       "      <td>NaN</td>\n",
       "      <td>Scope 3</td>\n",
       "    </tr>\n",
       "    <tr>\n",
       "      <th>1375</th>\n",
       "      <td>California Department of Corrections and Rehab...</td>\n",
       "      <td>2015</td>\n",
       "      <td>CDCR - Fleet Vehicles</td>\n",
       "      <td>Motor Gasoline</td>\n",
       "      <td>Mobile Combustion - Scope 1</td>\n",
       "      <td>Motor Gasoline</td>\n",
       "      <td>All</td>\n",
       "      <td>Gasoline Passenger Cars</td>\n",
       "      <td>EPA Tier 1</td>\n",
       "      <td>NaN</td>\n",
       "      <td>gal</td>\n",
       "      <td>NaN</td>\n",
       "      <td>mi</td>\n",
       "      <td>NaN</td>\n",
       "      <td>Scope 2</td>\n",
       "    </tr>\n",
       "  </tbody>\n",
       "</table>\n",
       "</div>"
      ],
      "text/plain": [
       "                                            Agency_Name  Emission_Year  \\\n",
       "77                        California Coastal Commission           2014   \n",
       "81                        California Coastal Commission           2014   \n",
       "1373  California Department of Corrections and Rehab...           2015   \n",
       "1374  California Department of Corrections and Rehab...           2015   \n",
       "1375  California Department of Corrections and Rehab...           2015   \n",
       "\n",
       "                                        Facility_Name     Source_Name  \\\n",
       "77    North Coast District Office (previous location)     Electricity   \n",
       "81                        South Coast District Office     Natural Gas   \n",
       "1373                            CDCR - Fleet Vehicles             CNG   \n",
       "1374                            CDCR - Fleet Vehicles          Diesel   \n",
       "1375                            CDCR - Fleet Vehicles  Motor Gasoline   \n",
       "\n",
       "                        Activity_Type          Fuel_Type  \\\n",
       "77    Purchased Electricity - Scope 2    WECC California   \n",
       "81                 Scope 2 (Optional)                NaN   \n",
       "1373      Mobile Combustion - Scope 1  Alternative Fuels   \n",
       "1374      Mobile Combustion - Scope 1        Diesel Fuel   \n",
       "1375      Mobile Combustion - Scope 1     Motor Gasoline   \n",
       "\n",
       "                              Fuel  \\\n",
       "77                             All   \n",
       "81                             NaN   \n",
       "1373  Compressed Natural Gas (CNG)   \n",
       "1374                           All   \n",
       "1375                           All   \n",
       "\n",
       "                                      End_Use_Sector  \\\n",
       "77                                               All   \n",
       "81                                               All   \n",
       "1373                  Medium and Heavy-Duty Vehicles   \n",
       "1374  Diesel Medium and Heavy-Duty Trucks and Busses   \n",
       "1375                         Gasoline Passenger Cars   \n",
       "\n",
       "                                             Technology  Fuel_Quantity  \\\n",
       "77                               Unspecified Technology            NaN   \n",
       "81                               Unspecified Technology            NaN   \n",
       "1373                             Unspecified Technology            NaN   \n",
       "1374  Medium and Heavy-Duty Vehicles (Model Years 19...            NaN   \n",
       "1375                                         EPA Tier 1            NaN   \n",
       "\n",
       "     Fuel_Quantity_Units  Mobile_Fuel_Quantity Mobile_Fuel_Quantity_Units  \\\n",
       "77                   kWh                   0.0                        NaN   \n",
       "81                 therm                   0.0                        NaN   \n",
       "1373                 GGE                   NaN                         mi   \n",
       "1374                 gal                   NaN                         mi   \n",
       "1375                 gal                   NaN                         mi   \n",
       "\n",
       "      CO2e_Metric_Tons   Scopes  \n",
       "77                 NaN  Scope 3  \n",
       "81                 NaN  Scope 3  \n",
       "1373               NaN  Scope 1  \n",
       "1374               NaN  Scope 3  \n",
       "1375               NaN  Scope 2  "
      ]
     },
     "execution_count": 25,
     "metadata": {},
     "output_type": "execute_result"
    }
   ],
   "source": [
    "zero_co2e = california_co2e[california_co2e['CO2e_Metric_Tons']==0]\n",
    "nan_co2e = california_co2e[california_co2e['CO2e_Metric_Tons'].isnull()]\n",
    "display(zero_co2e.head())\n",
    "nan_co2e.head()"
   ]
  },
  {
   "cell_type": "code",
   "execution_count": 150,
   "metadata": {},
   "outputs": [
    {
     "data": {
      "text/plain": [
       "(array([521., 403., 280., 212., 268., 244., 234., 206., 162., 189.]),\n",
       " array([ 2.00178466,  3.80160619,  5.60142773,  7.40124926,  9.2010708 ,\n",
       "        11.00089233, 12.80071386, 14.6005354 , 16.40035693, 18.20017847,\n",
       "        20.        ]),\n",
       " <a list of 10 Patch objects>)"
      ]
     },
     "execution_count": 150,
     "metadata": {},
     "output_type": "execute_result"
    },
    {
     "data": {
      "image/png": "[encoded data removed]",
      "text/plain": [
       "<Figure size 432x288 with 1 Axes>"
      ]
     },
     "metadata": {
      "needs_background": "light"
     },
     "output_type": "display_data"
    }
   ],
   "source": [
    "california_co2e = california_co2e[california_co2e['CO2e_Metric_Tons']>=2]\n",
    "co2e_above200k = california_co2e[california_co2e['CO2e_Metric_Tons']>200000]\n",
    "co2e_below20 = california_co2e[california_co2e['CO2e_Metric_Tons']<=20]\n",
    "#display(co2e_below200k.head())\n",
    "#fig, ax = plt.subplots(1, 2, sharey=True, tight_layout=True)\n",
    "plt.hist(co2e_below20['CO2e_Metric_Tons'])\n",
    "#ax[1].hist(co2e_above200k['CO2e_Metric_Tons'])"
   ]
  },
  {
   "cell_type": "code",
   "execution_count": 15,
   "metadata": {},
   "outputs": [
    {
     "data": {
      "text/html": [
       "<div>\n",
       "<style scoped>\n",
       "    .dataframe tbody tr th:only-of-type {\n",
       "        vertical-align: middle;\n",
       "    }\n",
       "\n",
       "    .dataframe tbody tr th {\n",
       "        vertical-align: top;\n",
       "    }\n",
       "\n",
       "    .dataframe thead th {\n",
       "        text-align: right;\n",
       "    }\n",
       "</style>\n",
       "<table border=\"1\" class=\"dataframe\">\n",
       "  <thead>\n",
       "    <tr style=\"text-align: right;\">\n",
       "      <th></th>\n",
       "      <th>Emission_Year</th>\n",
       "      <th>CO2e_Metric_Tons</th>\n",
       "    </tr>\n",
       "  </thead>\n",
       "  <tbody>\n",
       "    <tr>\n",
       "      <th>0</th>\n",
       "      <td>2010</td>\n",
       "      <td>3.936998e+06</td>\n",
       "    </tr>\n",
       "    <tr>\n",
       "      <th>1</th>\n",
       "      <td>2011</td>\n",
       "      <td>2.974922e+06</td>\n",
       "    </tr>\n",
       "    <tr>\n",
       "      <th>2</th>\n",
       "      <td>2012</td>\n",
       "      <td>3.042338e+06</td>\n",
       "    </tr>\n",
       "    <tr>\n",
       "      <th>3</th>\n",
       "      <td>2013</td>\n",
       "      <td>2.220210e+06</td>\n",
       "    </tr>\n",
       "    <tr>\n",
       "      <th>4</th>\n",
       "      <td>2014</td>\n",
       "      <td>1.471384e+06</td>\n",
       "    </tr>\n",
       "    <tr>\n",
       "      <th>5</th>\n",
       "      <td>2015</td>\n",
       "      <td>1.990696e+06</td>\n",
       "    </tr>\n",
       "    <tr>\n",
       "      <th>6</th>\n",
       "      <td>2016</td>\n",
       "      <td>2.249042e+06</td>\n",
       "    </tr>\n",
       "  </tbody>\n",
       "</table>\n",
       "</div>"
      ],
      "text/plain": [
       "   Emission_Year  CO2e_Metric_Tons\n",
       "0           2010      3.936998e+06\n",
       "1           2011      2.974922e+06\n",
       "2           2012      3.042338e+06\n",
       "3           2013      2.220210e+06\n",
       "4           2014      1.471384e+06\n",
       "5           2015      1.990696e+06\n",
       "6           2016      2.249042e+06"
      ]
     },
     "execution_count": 15,
     "metadata": {},
     "output_type": "execute_result"
    }
   ],
   "source": [
    "california_co2e['Emission_Year'].unique()\n",
    "yearly_co2 = california_co2e[['Emission_Year', 'CO2e_Metric_Tons']].groupby('Emission_Year').sum()\n",
    "yearly_co2"
   ]
  },
  {
   "cell_type": "code",
   "execution_count": 152,
   "metadata": {},
   "outputs": [
    {
     "data": {
      "text/plain": [
       "[<matplotlib.lines.Line2D at 0x7fb496f12f28>]"
      ]
     },
     "execution_count": 152,
     "metadata": {},
     "output_type": "execute_result"
    },
    {
     "data": {
      "image/png": "[encoded data removed]",
      "text/plain": [
       "<Figure size 432x288 with 1 Axes>"
      ]
     },
     "metadata": {
      "needs_background": "light"
     },
     "output_type": "display_data"
    }
   ],
   "source": [
    "plt.plot(yearly_co2)"
   ]
  },
  {
   "cell_type": "code",
   "execution_count": 153,
   "metadata": {},
   "outputs": [
    {
     "data": {
      "text/plain": [
       "8865"
      ]
     },
     "execution_count": 153,
     "metadata": {},
     "output_type": "execute_result"
    }
   ],
   "source": [
    "california_co2e_per_year = california_co2e['CO2e_Metric_Tons'].count()\n",
    "california_co2e_per_year"
   ]
  },
  {
   "cell_type": "code",
   "execution_count": 184,
   "metadata": {},
   "outputs": [
    {
     "name": "stdout",
     "output_type": "stream",
     "text": [
      "<class 'pandas.core.frame.DataFrame'>\n",
      "Int64Index: 3 entries, 0 to 2\n",
      "Data columns (total 2 columns):\n",
      "Emission_Year       3 non-null int64\n",
      "CO2e_Metric_Tons    3 non-null int64\n",
      "dtypes: int64(2)\n",
      "memory usage: 72.0 bytes\n"
     ]
    }
   ],
   "source": [
    "nan_co2e['CO2e_Metric_Tons'] = nan_co2e['CO2e_Metric_Tons'].fillna('missing')\n",
    "nan_co2e_yearly = nan_co2e[['Emission_Year', 'CO2e_Metric_Tons']].groupby('Emission_Year', as_index=False).count()\n",
    "nan_co2e_yearly.info()"
   ]
  },
  {
   "cell_type": "code",
   "execution_count": 185,
   "metadata": {},
   "outputs": [],
   "source": [
    "years_with_no_nan = [\n",
    "    pd.Series([2010, 0], index=nan_co2e_yearly.columns),\n",
    "    pd.Series([2011, 0], index=nan_co2e_yearly.columns),\n",
    "    pd.Series([2012, 0], index=nan_co2e_yearly.columns),\n",
    "    pd.Series([2013, 0], index=nan_co2e_yearly.columns),\n",
    "]\n",
    "nan_co2e_yearly = nan_co2e_yearly.append(years_with_no_nan, ignore_index=True).sort_values('Emission_Year')\n"
   ]
  },
  {
   "cell_type": "code",
   "execution_count": 186,
   "metadata": {},
   "outputs": [
    {
     "data": {
      "text/plain": [
       "[<matplotlib.lines.Line2D at 0x7fb49c57e710>]"
      ]
     },
     "execution_count": 186,
     "metadata": {},
     "output_type": "execute_result"
    },
    {
     "data": {
      "image/png": "[encoded data removed]",
      "text/plain": [
       "<Figure size 432x288 with 1 Axes>"
      ]
     },
     "metadata": {
      "needs_background": "light"
     },
     "output_type": "display_data"
    }
   ],
   "source": [
    "plt.plot('Emission_Year', 'CO2e_Metric_Tons', data=nan_co2e_yearly)"
   ]
  },
  {
   "cell_type": "code",
   "execution_count": null,
   "metadata": {},
   "outputs": [],
   "source": []
  }
 ],
 "metadata": {
  "kernelspec": {
   "display_name": "Python 3",
   "language": "python",
   "name": "python3"
  },
  "language_info": {
   "codemirror_mode": {
    "name": "ipython",
    "version": 3
   },
   "file_extension": ".py",
   "mimetype": "text/x-python",
   "name": "python",
   "nbconvert_exporter": "python",
   "pygments_lexer": "ipython3",
   "version": "3.7.5"
  }
 },
 "nbformat": 4,
 "nbformat_minor": 2
}
